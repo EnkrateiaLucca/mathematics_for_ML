{
 "cells": [
  {
   "attachments": {},
   "cell_type": "markdown",
   "metadata": {},
   "source": [
    "# Simple Definition\n",
    "\n",
    "The determinant represents how much a matrix scales the area of a region."
   ]
  },
  {
   "cell_type": "code",
   "execution_count": 1,
   "metadata": {},
   "outputs": [
    {
     "name": "stdout",
     "output_type": "stream",
     "text": [
      "Determinant of A: 0.17309531897437888\n",
      "Determinant of B: 0.19664578528844123\n",
      "Determinant of AB: 0.03403846492946992\n",
      "Product of det(A) and det(B): 0.03403846492946996\n",
      "The property holds: det(AB) = det(A) * det(B)\n"
     ]
    }
   ],
   "source": [
    "import numpy as np\n",
    "\n",
    "A = np.random.rand(3,3)\n",
    "B = np.random.rand(3,3)\n",
    "\n",
    "\n",
    "AB = np.dot(A,B)\n",
    "\n",
    "det_A = np.linalg.det(A)\n",
    "det_B = np.linalg.det(B)\n",
    "det_AB = np.linalg.det(AB)\n",
    "\n",
    "\n",
    "tolerance = 1e-10\n",
    "if np.abs(det_AB - det_A * det_B) < tolerance:\n",
    "    print(\"The property holds: det(AB) = det(A) * det(B)\")\n",
    "else:\n",
    "    print(\"The property does not hold.\")"
   ]
  },
  {
   "attachments": {},
   "cell_type": "markdown",
   "metadata": {},
   "source": [
    "# References\n",
    "\n",
    "- https://www.youtube.com/watch?v=Ip3X9LOh2dk\n",
    "- https://www.khanacademy.org/math/precalculus/x9e81a4f98389efdf:matrices/x9e81a4f98389efdf:matrices-as-transformations/v/interpreting-determinants-in-terms-of-area#:~:text=The%20determinant%20of%20a%202X2,would%20be%20under%20the%20transformation."
   ]
  }
 ],
 "metadata": {
  "kernelspec": {
   "display_name": "math_ml",
   "language": "python",
   "name": "math_ml"
  },
  "language_info": {
   "codemirror_mode": {
    "name": "ipython",
    "version": 3
   },
   "file_extension": ".py",
   "mimetype": "text/x-python",
   "name": "python",
   "nbconvert_exporter": "python",
   "pygments_lexer": "ipython3",
   "version": "3.9.13"
  },
  "orig_nbformat": 4
 },
 "nbformat": 4,
 "nbformat_minor": 2
}
